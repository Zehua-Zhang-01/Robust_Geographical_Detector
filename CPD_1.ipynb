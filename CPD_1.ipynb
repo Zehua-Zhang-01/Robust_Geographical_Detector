{
 "cells": [
  {
   "cell_type": "code",
   "execution_count": null,
   "id": "63cd14e9-5504-4232-9a32-c020501ffa21",
   "metadata": {},
   "outputs": [],
   "source": [
    "#Import packages"
   ]
  },
  {
   "cell_type": "code",
   "execution_count": null,
   "id": "7b0aa17f-5c86-4cfd-a6ad-72441f5f4359",
   "metadata": {},
   "outputs": [],
   "source": [
    "import pandas as pd"
   ]
  },
  {
   "cell_type": "code",
   "execution_count": null,
   "id": "6299db36-fd47-4ddf-a57e-eeb09252fefa",
   "metadata": {},
   "outputs": [],
   "source": [
    "import os"
   ]
  },
  {
   "cell_type": "code",
   "execution_count": null,
   "id": "bb9595ee-57ef-415a-8cbf-03d5fc7c8b04",
   "metadata": {},
   "outputs": [],
   "source": [
    "#ruptures is a tool for change point detection"
   ]
  },
  {
   "cell_type": "code",
   "execution_count": null,
   "id": "adae94b1-3d3d-4774-81f7-a943c2a4c801",
   "metadata": {},
   "outputs": [],
   "source": [
    "import ruptures as rpt"
   ]
  },
  {
   "cell_type": "code",
   "execution_count": null,
   "id": "60658933-4c5e-422e-97c5-378335820418",
   "metadata": {},
   "outputs": [],
   "source": [
    "import numpy as np"
   ]
  },
  {
   "cell_type": "code",
   "execution_count": null,
   "id": "c12697c1-f8ef-4a7a-900d-158f1b237263",
   "metadata": {},
   "outputs": [],
   "source": [
    "directory = 'XX/XXXXX/XXXXX/XXXXX'"
   ]
  },
  {
   "cell_type": "code",
   "execution_count": null,
   "id": "0750695b-bae1-4a6b-92bb-39f58e7dcd41",
   "metadata": {},
   "outputs": [],
   "source": [
    "#Suppose we have all files in .csv stored in the directory\n",
    "#These csv files should have at least one column of Y-variable and another column of X-variable\n",
    "for idx, filename in enumerate(os.listdir(directory), start=1):\n",
    "    if filename.endswith('.csv'):\n",
    "        filepath = os.path.join(directory, filename)\n",
    "\n",
    "        # read the csv file\n",
    "        df = pd.read_csv(filepath)\n",
    "        IndusFile = df.values\n",
    "        df_2 = df.copy()\n",
    "        # create a 1-dimensional series: Y-value sorted by X-value\n",
    "        # please change the column number of Y_var and X_var if needed\n",
    "        Y_var = IndusFile[:, 0].astype(float)\n",
    "        X_var = IndusFile[:, 1].astype(float)\n",
    "        a = [Y_var, X_var]\n",
    "        b = np.array(a).transpose()\n",
    "        sorted_b = b[np.argsort(b[:, 1])]\n",
    "        c = np.array(sorted_b[:, 0])\n",
    "        \n",
    "        # using change point detection: Dynp(Dynamic programming)\n",
    "        # \"l2\" (the cost is based on least squares)\n",
    "        # \"min_size\" (the min size of each group)\n",
    "        algo = rpt.Dynp(model=\"l2\", min_size=1, jump=1).fit(c)\n",
    "        # the number of breaking points = number of groups - 1\n",
    "        result = algo.predict(n_bkps=1)\n",
    "        result.insert(0, 0)\n",
    "        print(result)\n",
    "        # This is an example of re-categorize into two groups\n",
    "        labels = [\"Empty\"] * 2\n",
    "        for i in range(0, 2):\n",
    "            labels[i] = str(\"Group\" + str(i))\n",
    "        print(labels)\n",
    "        # add a new column to write down our change-detected results\n",
    "        # df_2[\"X_var\"] is the column of X-variable\n",
    "        df_2['Category_2'] = pd.cut(df_2[\"X_var\"].rank(), bins=result, labels=labels)\n",
    "        new_filename = f\"{filename.split('.')[0]}_{idx}.csv\"\n",
    "        # save the file to your preferred directory by replacing 'PATH'\n",
    "        new_filepath = os.path.join('PATH', new_filename)\n",
    "        df_2.to_csv(new_filepath, index=False)"
   ]
  }
 ],
 "metadata": {
  "kernelspec": {
   "display_name": "Python 3 (ipykernel)",
   "language": "python",
   "name": "python3"
  },
  "language_info": {
   "codemirror_mode": {
    "name": "ipython",
    "version": 3
   },
   "file_extension": ".py",
   "mimetype": "text/x-python",
   "name": "python",
   "nbconvert_exporter": "python",
   "pygments_lexer": "ipython3",
   "version": "3.8.10"
  }
 },
 "nbformat": 4,
 "nbformat_minor": 5
}
